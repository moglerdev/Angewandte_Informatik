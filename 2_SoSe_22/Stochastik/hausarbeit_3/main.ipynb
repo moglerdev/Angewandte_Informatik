{
 "cells": [
  {
   "cell_type": "code",
   "execution_count": 23,
   "metadata": {},
   "outputs": [
    {
     "name": "stdout",
     "output_type": "stream",
     "text": [
      "a) Modalwert\n",
      "0     9\n",
      "1    10\n",
      "Name: city_appeal, dtype: int64\n",
      "\n",
      "b) Arithmetisches Mittel = 7.25\n",
      "\n",
      "c) empirische Standardabweichung = 2.712405363721075\n",
      "\n",
      "d) Alle Quartile\n",
      "\tQ1 / 25% = 5.5\n",
      "\tQ2 / 50% = 8.0\n",
      "\tQ3 / 75% = 9.25\n",
      "\n",
      "e) 60%-Quantil = 9.0\n"
     ]
    },
    {
     "data": {
      "text/plain": [
       "'OUTPUT\\na) Modalwert\\n0     9\\n1    10\\nName: city_appeal, dtype: int64\\n\\nb) Arithmetisches Mittel = 7.25\\n\\nc) empirische Standardabweichung = 2.712405363721075\\n\\nd) Alle Quartile\\n\\tQ1 / 25% = 5.5\\n\\tQ2 / 50% = 8.0\\n\\tQ3 / 75% = 9.25\\n\\ne) 60%-Quantil = 9.0\\n'"
      ]
     },
     "execution_count": 23,
     "metadata": {},
     "output_type": "execute_result"
    }
   ],
   "source": [
    "import pandas as pd\n",
    "jobs = [\n",
    "    (1, 7, 65, 3),\n",
    "    (2, 4, 60, 10),\n",
    "    (3, 10, 40, 9),\n",
    "    (4, 10, 70, 1),\n",
    "    (5, 9, 45, 5),\n",
    "    (6, 3, 40, 10),\n",
    "    (7, 9, 65, 2),\n",
    "    (8, 6, 55, 3),\n",
    "]\n",
    "df_jobs = pd.DataFrame(jobs, columns=(\"nr\", \"city_appeal\", \"salary\", \"interesting\"))\n",
    "\n",
    "# 1.11.1 \n",
    "\n",
    "city_appeal = df_jobs[\"city_appeal\"]\n",
    "\n",
    "# a) Modalwert\n",
    "mode = city_appeal.mode()\n",
    "print(\"a) Modalwert\")\n",
    "print(mode)\n",
    "\n",
    "# b) Arithmetisches Mittel\n",
    "average = city_appeal.mean()\n",
    "print(\"\\nb) Arithmetisches Mittel =\", average)\n",
    "\n",
    "# c) empirische Standardabweichung\n",
    "std = city_appeal.std()\n",
    "print(\"\\nc) empirische Standardabweichung =\", std)\n",
    "\n",
    "# d) Alle Quartile\n",
    "q1 = city_appeal.quantile(q=.25)\n",
    "q2 = city_appeal.quantile(q=.50)\n",
    "q3 = city_appeal.quantile(q=.75)\n",
    "print(\"\\nd) Alle Quartile\")\n",
    "print(\"\\tQ1 / 25% =\", q1)\n",
    "print(\"\\tQ2 / 50% =\", q2)\n",
    "print(\"\\tQ3 / 75% =\", q3)\n",
    "\n",
    "# e) 60%-Quantil\n",
    "q60 = city_appeal.quantile(q=.60)\n",
    "print(\"\\ne) 60%-Quantil =\", q60)\n",
    "\n",
    "\"\"\"OUTPUT\n",
    "a) Modalwert\n",
    "0     9\n",
    "1    10\n",
    "Name: city_appeal, dtype: int64\n",
    "\n",
    "b) Arithmetisches Mittel = 7.25\n",
    "\n",
    "c) empirische Standardabweichung = 2.712405363721075\n",
    "\n",
    "d) Alle Quartile\n",
    "\tQ1 / 25% = 5.5\n",
    "\tQ2 / 50% = 8.0\n",
    "\tQ3 / 75% = 9.25\n",
    "\n",
    "e) 60%-Quantil = 9.0\n",
    "\"\"\"\n"
   ]
  },
  {
   "cell_type": "code",
   "execution_count": 30,
   "metadata": {},
   "outputs": [
    {
     "data": {
      "text/plain": [
       "<matplotlib.collections.PathCollection at 0x7f10d0d81d30>"
      ]
     },
     "execution_count": 30,
     "metadata": {},
     "output_type": "execute_result"
    },
    {
     "data": {
      "image/png": "[encoded data removed]",
      "text/plain": [
       "<Figure size 432x288 with 1 Axes>"
      ]
     },
     "metadata": {
      "needs_background": "light"
     },
     "output_type": "display_data"
    },
    {
     "data": {
      "image/png": "[encoded data removed]",
      "text/plain": [
       "<Figure size 432x288 with 1 Axes>"
      ]
     },
     "metadata": {
      "needs_background": "light"
     },
     "output_type": "display_data"
    },
    {
     "data": {
      "image/png": "[encoded data removed]",
      "text/plain": [
       "<Figure size 432x288 with 1 Axes>"
      ]
     },
     "metadata": {
      "needs_background": "light"
     },
     "output_type": "display_data"
    }
   ],
   "source": [
    "# ...\n",
    "import matplotlib.pyplot as plt\n",
    "\n",
    "# 1.11.2\n",
    "\n",
    "fig, ax = plt.subplots()\n",
    "ax.scatter(df_jobs[\"city_appeal\"], df_jobs[\"salary\"])\n",
    "fig, ax = plt.subplots()\n",
    "ax.scatter(df_jobs[\"city_appeal\"], df_jobs[\"interesting\"])\n",
    "fig, ax = plt.subplots()\n",
    "ax.scatter(df_jobs[\"salary\"], df_jobs[\"interesting\"])\n"
   ]
  },
  {
   "cell_type": "code",
   "execution_count": 3,
   "metadata": {},
   "outputs": [
    {
     "data": {
      "text/plain": [
       "<matplotlib.collections.PathCollection at 0x7f4bf3e412e0>"
      ]
     },
     "execution_count": 3,
     "metadata": {},
     "output_type": "execute_result"
    },
    {
     "data": {
      "image/png": "[encoded data removed]",
      "text/plain": [
       "<Figure size 432x288 with 1 Axes>"
      ]
     },
     "metadata": {
      "needs_background": "light"
     },
     "output_type": "display_data"
    }
   ],
   "source": [
    "import pandas as pd\n",
    "import matplotlib.pyplot as plt\n",
    "\n",
    "plt.figure()\n",
    "\n",
    "dat = [\n",
    "    (1000, 3),\n",
    "    (10000, 115),\n",
    "    (100000, 14055),\n",
    "]\n",
    "df = pd.DataFrame(dat, columns=(\"anzahl\", \"ms\"))\n",
    "\n",
    "x = df[\"anzahl\"]\n",
    "y = df[\"ms\"]\n",
    "\n",
    "plt.scatter(x, y)\n"
   ]
  }
 ],
 "metadata": {
  "interpreter": {
   "hash": "e7370f93d1d0cde622a1f8e1c04877d8463912d04d973331ad4851f04de6915a"
  },
  "kernelspec": {
   "display_name": "Python 3.9.7 64-bit",
   "language": "python",
   "name": "python3"
  },
  "language_info": {
   "codemirror_mode": {
    "name": "ipython",
    "version": 3
   },
   "file_extension": ".py",
   "mimetype": "text/x-python",
   "name": "python",
   "nbconvert_exporter": "python",
   "pygments_lexer": "ipython3",
   "version": "3.9.7"
  },
  "orig_nbformat": 4
 },
 "nbformat": 4,
 "nbformat_minor": 2
}
