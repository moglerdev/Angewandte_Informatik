{
 "cells": [
  {
   "cell_type": "code",
   "execution_count": 60,
   "id": "73980e02-6a60-405e-9b51-70ff8cd0ce86",
   "metadata": {},
   "outputs": [],
   "source": [
    "# Author: Christopher Mogler\n",
    "# E-Mail: christopher@mogler.dev\n",
    "# GitHub: mogler_dev"
   ]
  },
  {
   "cell_type": "code",
   "execution_count": 61,
   "id": "5cf0e38b-504a-4508-bbc5-946532656488",
   "metadata": {},
   "outputs": [
    {
     "data": {
      "image/png": "[encoded data removed]",
      "text/plain": [
       "<Figure size 432x288 with 1 Axes>"
      ]
     },
     "metadata": {
      "needs_background": "light"
     },
     "output_type": "display_data"
    }
   ],
   "source": [
    "# Python Script für 1.3.2\n",
    "import matplotlib.pyplot as plt\n",
    "import numpy as np\n",
    "\n",
    "fig, ax = plt.subplots()\n",
    "\n",
    "urliste_1 = [3,4,5,1,5,2,1,3,1,3]\n",
    "\n",
    "plt.hist(urliste_1)\n",
    "ax.set_xticks(np.arange(0, 6))\n",
    "fig.suptitle('WOHNUNGSGRÖSSEN | 1.3.2', fontweight =\"bold\")\n",
    "\n",
    "plt.xlabel(\"Anzahl der Zimmer\")\n",
    "plt.ylabel(\"Anzahl der Stimmen\")\n",
    "plt.show()"
   ]
  },
  {
   "cell_type": "code",
   "execution_count": 62,
   "id": "5dccf6c7-6589-41c9-8067-ba270387b655",
   "metadata": {},
   "outputs": [
    {
     "data": {
      "image/png": "[encoded data removed]",
      "text/plain": [
       "<Figure size 432x288 with 1 Axes>"
      ]
     },
     "metadata": {
      "needs_background": "light"
     },
     "output_type": "display_data"
    }
   ],
   "source": [
    "# Python Script für 1.3.3\n",
    "import matplotlib.pyplot as plt\n",
    "import numpy as np\n",
    "import seaborn as sns\n",
    "\n",
    "fig, ax = plt.subplots()\n",
    "\n",
    "urliste_1 = [3,4,5,1,5,2,1,3,1,3]\n",
    "\n",
    "sns.ecdfplot(data=urliste_1)\n",
    "ax.set_xticks(np.arange(0, 6))\n",
    "\n",
    "plt.xlabel(\"Anzahl der Zimmer\")\n",
    "plt.ylabel(\"Proportion\")\n",
    "plt.show()"
   ]
  },
  {
   "cell_type": "code",
   "execution_count": 63,
   "id": "3312fca2-dd44-4fd9-a34a-26068026cad1",
   "metadata": {},
   "outputs": [
    {
     "name": "stdout",
     "output_type": "stream",
     "text": [
      "a= 8 / 10 = 0.8 = 80.0 %\n",
      "b= 5 / 10 = 0.5 = 50.0 %\n"
     ]
    }
   ],
   "source": [
    "# Python Script für Aufgabe 1.3.4 (a und b)\n",
    "urliste_1 = [3,4,5,1,5,2,1,3,1,3]\n",
    "under_4 = 0\n",
    "b_24 = 0\n",
    "summ = 0\n",
    "for x in urliste_1:\n",
    "    if x < 5: # maximal 4 Zimmer\n",
    "        under_4 += 1\n",
    "        if 1 < x: # minimal 2 Zimmer\n",
    "            b_24 += 1\n",
    "    summ += 1\n",
    "a = under_4 / summ\n",
    "b = b_24 / summ\n",
    "print(\"a=\", under_4, \"/\", summ, \"=\", a, \"=\", a * 100, \"%\")\n",
    "print(\"b=\", b_24, \"/\", summ, \"=\", b, \"=\", b * 100, \"%\")"
   ]
  },
  {
   "cell_type": "code",
   "execution_count": null,
   "id": "06c630ce",
   "metadata": {},
   "outputs": [],
   "source": [
    "\n"
   ]
  }
 ],
 "metadata": {
  "kernelspec": {
   "display_name": "Python 3 (ipykernel)",
   "language": "python",
   "name": "python3"
  },
  "language_info": {
   "codemirror_mode": {
    "name": "ipython",
    "version": 3
   },
   "file_extension": ".py",
   "mimetype": "text/x-python",
   "name": "python",
   "nbconvert_exporter": "python",
   "pygments_lexer": "ipython3",
   "version": "3.8.10"
  }
 },
 "nbformat": 4,
 "nbformat_minor": 5
}
