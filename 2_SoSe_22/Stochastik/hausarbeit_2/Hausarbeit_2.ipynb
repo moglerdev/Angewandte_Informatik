{
 "cells": [
  {
   "cell_type": "code",
   "execution_count": 1,
   "metadata": {},
   "outputs": [],
   "source": [
    "# Funktionen \n",
    "import statistics\n",
    "import numpy as np\n",
    "import math\n",
    "\n",
    "def is_natural_number(n):\n",
    "    return isinstance(n, int) and n > 0\n",
    "\n",
    "def list_to_dict(_list):\n",
    "    _res = dict()\n",
    "    for i in _list:\n",
    "        if (_res.get(i) is None):\n",
    "            _res[i] = 1\n",
    "        else:\n",
    "            _res[i] += 1\n",
    "    return _res\n",
    "    \n",
    "def get_mode(_list):\n",
    "    dic = list_to_dict(_list)\n",
    "    max = 0\n",
    "    _res = []\n",
    "    for x in dic:\n",
    "        if dic[x] > max:\n",
    "            max = dic[x]\n",
    "            _res = [x]\n",
    "        elif dic[x] == max:\n",
    "            _res.append(x)\n",
    "    return _res\n",
    "\n",
    "def get_span(_list):\n",
    "    y = _list[0]\n",
    "    x = _list[len(_list) - 1]\n",
    "    return x - y\n",
    "\n",
    "def get_arithmetic_mean(_list):\n",
    "    y = 0\n",
    "    for x in _list:\n",
    "        y += x\n",
    "    y = y / len(_list)\n",
    "    return y\n",
    "\n",
    "def get_empirical_std(_list):\n",
    "    n = len(_list)\n",
    "    y = 0\n",
    "    _x = get_arithmetic_mean(_list)\n",
    "    for x in _list:\n",
    "        y += (x - _x) ** 2\n",
    "    y *= 1 / (n - 1)\n",
    "    return math.sqrt(y)\n",
    "        \n",
    "def get_interquartile_range(_list):\n",
    "    q3 = get_quantile(ur_liste, .75)\n",
    "    q1 = get_quantile(ur_liste, .25)\n",
    "    return q3 - q1\n",
    "\n",
    "def get_quantile(_list, _per):\n",
    "    n_p = len(_list) * _per - 1 \n",
    "    y = 0\n",
    "    if (is_natural_number(n_p)):\n",
    "        y = _list[n_p] + _list[n_p + 1]\n",
    "        y *= 0.5\n",
    "    else:\n",
    "        n_p = math.ceil(n_p)\n",
    "        y = _list[n_p]\n",
    "    return y"
   ]
  },
  {
   "cell_type": "code",
   "execution_count": 2,
   "metadata": {},
   "outputs": [
    {
     "name": "stdout",
     "output_type": "stream",
     "text": [
      "a) das arithmetische Mittel =  2.5\n",
      "b) den Median =  2.0\n",
      "c) den Modalwert =  [2]\n",
      "d) das 10%-Quantil =  1\n",
      "e) das 25%-Quantil =  2\n",
      "f) das 75%-Quantil =  3\n",
      "g) den Interquartilabstand =  1\n",
      "h) die Spannweite =  3\n"
     ]
    },
    {
     "data": {
      "text/plain": [
       "'OUTPUT\\na) das arithmetische Mittel =  2.5\\nb) den Median =  2.0\\nc) den Modalwert =  [2]\\nd) das 10%-Quantil =  1\\ne) das 25%-Quantil =  2\\nf) das 75%-Quantil =  3\\ng) den Interquartilabstand =  1\\nh) die Spannweite =  3\\n'"
      ]
     },
     "execution_count": 2,
     "metadata": {},
     "output_type": "execute_result"
    }
   ],
   "source": [
    "# Aufgabe 1.5\n",
    "\n",
    "ur_liste = [2, 4, 3, 1, 2, 4, 2, 2, 2, 3]\n",
    "ur_liste.sort()\n",
    "\n",
    "# das arithmetische Mittel\n",
    "print(\"a) das arithmetische Mittel = \", get_arithmetic_mean(ur_liste))\n",
    "\n",
    "# den Median\n",
    "print(\"b) den Median = \", statistics.median(ur_liste))\n",
    "\n",
    "# den Modalwert\n",
    "print(\"c) den Modalwert = \", get_mode(ur_liste))\n",
    "\n",
    "# das 10%-Quantil\n",
    "print(\"d) das 10%-Quantil = \", get_quantile(ur_liste, .10))\n",
    "\n",
    "# das 25%-Quantil\n",
    "print(\"e) das 25%-Quantil = \", get_quantile(ur_liste, .25))\n",
    "\n",
    "# das 75%-Quantil\n",
    "print(\"f) das 75%-Quantil = \", get_quantile(ur_liste, .75))\n",
    "\n",
    "# den Interquartilabstand\n",
    "print(\"g) den Interquartilabstand = \", get_interquartile_range(ur_liste))\n",
    "\n",
    "# die Spannweite\n",
    "print(\"h) die Spannweite = \", get_span(ur_liste))\n",
    "\n",
    "\"\"\"OUTPUT\n",
    "a) das arithmetische Mittel =  2.5\n",
    "b) den Median =  2.0\n",
    "c) den Modalwert =  [2]\n",
    "d) das 10%-Quantil =  1\n",
    "e) das 25%-Quantil =  2\n",
    "f) das 75%-Quantil =  3\n",
    "g) den Interquartilabstand =  1\n",
    "h) die Spannweite =  3\n",
    "\"\"\""
   ]
  },
  {
   "cell_type": "code",
   "execution_count": 3,
   "metadata": {},
   "outputs": [
    {
     "name": "stdout",
     "output_type": "stream",
     "text": [
      "[10, 25, 25, 25, 30, 35]\n",
      "a) Arithmetisches Mittel =  25.0\n",
      "b) Median =  25.0\n",
      "c) 75%-Quantil =  30\n",
      "d) empirische Standardabweichung =  8.366600265340756\n"
     ]
    },
    {
     "data": {
      "text/plain": [
       "'OUTPUT\\n[10, 25, 25, 25, 30, 35]\\na) Arithmetisches Mittel =  25.0\\nb) Median =  25.0\\nc) 75%-Quantil =  30\\nd) empirische Standardabweichung =  8.366600265340756\\n'"
      ]
     },
     "execution_count": 3,
     "metadata": {},
     "output_type": "execute_result"
    }
   ],
   "source": [
    "# Aufgabe 1.6.1\n",
    "\n",
    "ur_liste = [25, 10, 30, 25, 35, 25]\n",
    "ur_liste.sort()\n",
    "print(ur_liste)\n",
    "\n",
    "print(\"a) Arithmetisches Mittel = \", get_arithmetic_mean(ur_liste))\n",
    "print(\"b) Median = \", statistics.median(ur_liste))\n",
    "print(\"c) 75%-Quantil = \", get_quantile(ur_liste, .75))\n",
    "print(\"d) empirische Standardabweichung = \", get_empirical_std(ur_liste))\n",
    "\n",
    "\"\"\"OUTPUT\n",
    "[10, 25, 25, 25, 30, 35]\n",
    "a) Arithmetisches Mittel =  25.0\n",
    "b) Median =  25.0\n",
    "c) 75%-Quantil =  30\n",
    "d) empirische Standardabweichung =  8.366600265340756\n",
    "\"\"\""
   ]
  },
  {
   "cell_type": "code",
   "execution_count": 4,
   "metadata": {},
   "outputs": [
    {
     "name": "stdout",
     "output_type": "stream",
     "text": [
      "a) \n",
      "R =  25\n",
      "I =  5\n"
     ]
    },
    {
     "data": {
      "text/plain": [
       "'OUTPUT\\na) \\nR =  25\\nI =  5\\n'"
      ]
     },
     "execution_count": 4,
     "metadata": {},
     "output_type": "execute_result"
    }
   ],
   "source": [
    "# Aufgabe 1.6.2\n",
    "\n",
    "print(\"a) \")\n",
    "print(\"R = \", get_span(ur_liste))\n",
    "print(\"I = \", get_interquartile_range(ur_liste))\n",
    "\n",
    "\"\"\"OUTPUT\n",
    "a) \n",
    "R =  25\n",
    "I =  5\n",
    "\"\"\"\n",
    "\n",
    "# Werte wurden vertauscht\n",
    "\n",
    "# b)\n",
    "# mittelwert und median\n",
    "# Zufall\n",
    "\n",
    "# c)\n",
    "# 75% der Menge ist es der Maximalwert\n",
    "# 25% der Menge ist es der Minimalwert\n",
    "\n",
    "# d) \n",
    "# die Spannweite ist größer\n",
    "\n",
    "# e)\n",
    "# Das zwischen Mathenote und Taschengeld ein vernachlässigbarer Wert ist, \n",
    "# trotzdem sagt der Wert aus, um so besser man in Mathe ist, desto weniger verdient man Taschengeld.\n",
    "\n",
    "# Um so größer die Schuhe, desto mehr Taschengeld bekommt man. Dabei ist zu beachten, das die Schuhgröße vom alter stark abhängt.\n",
    "\n",
    "# f)\n",
    "# bei 3 Schülern ist die Datenmenge zugering, es könnte sein, dass einer sehr viel Geld bekommt, der andere wenig und der letzte garnichts.\n",
    "# Grace müsste viel mehr Schüler befragen, um einen sichern arithmetische Mittelwert zu erhalten."
   ]
  },
  {
   "cell_type": "code",
   "execution_count": 5,
   "metadata": {},
   "outputs": [
    {
     "name": "stdout",
     "output_type": "stream",
     "text": [
      "Bild A =  0.9767483130677757\n",
      "Bild B =  -0.966091783079296\n",
      "Bild C =  -0.8075728530872481\n"
     ]
    },
    {
     "data": {
      "text/plain": [
       "' OUTPUT\\nBild A =  0.9767483130677757\\nBild B =  -0.966091783079296\\nBild C =  -0.8075728530872481\\n'"
      ]
     },
     "execution_count": 5,
     "metadata": {},
     "output_type": "execute_result"
    }
   ],
   "source": [
    "# Aufgabe 1.9.1\n",
    "\n",
    "import matplotlib.pyplot as plt\n",
    "\n",
    "x_ax = range(1, 7)\n",
    "\n",
    "a_bild = [-1, 0, 0, 0.5, 1, 1.5]\n",
    "b_bild = [0.5, 0, 0, -1, -1, -1.5]\n",
    "c_bild = [1, -0.4, -0.3, 0.3, -2.1, -1.6]\n",
    "\n",
    "a = np.corrcoef(a_bild, x_ax)\n",
    "b = np.corrcoef(b_bild, x_ax)\n",
    "c = np.corrcoef(c_bild, x_ax)\n",
    "\n",
    "print(\"Bild A = \", a[0][1])\n",
    "print(\"Bild B = \", b[0][1])\n",
    "print(\"Bild C = \", c[0][1])\n",
    "\n",
    "\"\"\" OUTPUT\n",
    "Bild A =  0.9767483130677757\n",
    "Bild B =  -0.966091783079296\n",
    "Bild C =  -0.8075728530872481\n",
    "\"\"\""
   ]
  },
  {
   "cell_type": "code",
   "execution_count": 6,
   "metadata": {},
   "outputs": [
    {
     "name": "stdout",
     "output_type": "stream",
     "text": [
      "corrcoef = 0.7025547336014847\n"
     ]
    },
    {
     "data": {
      "text/plain": [
       "'OUTPUT\\ncorrcoef = 0.7025547336014847\\n'"
      ]
     },
     "execution_count": 6,
     "metadata": {},
     "output_type": "execute_result"
    },
    {
     "data": {
      "image/png": "[encoded data removed]",
      "text/plain": [
       "<Figure size 432x288 with 1 Axes>"
      ]
     },
     "metadata": {
      "needs_background": "light"
     },
     "output_type": "display_data"
    }
   ],
   "source": [
    "# 1.12\n",
    "\n",
    "# 1.12.a\n",
    "def get_empirical_corrcoef(ax_x, ax_y):\n",
    "    n = len(ax_x)\n",
    "    if n > len(ax_y):\n",
    "        return -1\n",
    "\n",
    "    n = range(0, n)\n",
    "\n",
    "    __x = get_arithmetic_mean(ax_x)\n",
    "    __y = get_arithmetic_mean(ax_y)\n",
    "    \n",
    "    sp_xy = 0 # \n",
    "    sq_x = 0\n",
    "    sq_y = 0\n",
    "    for i in n:\n",
    "        xi_ = ax_x[i] - __x\n",
    "        yi_ = ax_y[i] - __y\n",
    "        # SP(x, y)\n",
    "        sp_xy += xi_ * yi_\n",
    "        # SQ(x)\n",
    "        sq_x += xi_**2\n",
    "        # SQ(y)\n",
    "        sq_y += yi_**2\n",
    "    \n",
    "    r_xy = sp_xy / math.sqrt(sq_x * sq_y)\n",
    "\n",
    "    return r_xy\n",
    "\n",
    "# Ausbildungsdauer X\n",
    "dauerX = [9, 13, 15, 18, 20]\n",
    "# Jahresgehalt Y [1000 €]\n",
    "gehaltY = [18, 37, 61, 125, 59]\n",
    "\n",
    "fig, ax = plt.subplots()\n",
    "ax.scatter(dauerX, gehaltY)\n",
    "ax.set_title(\"Aufgabe 1.12\")\n",
    "ax.set_xlabel(\"Ausbildungsdauer X\")\n",
    "ax.set_ylabel(\"Jahresgehalt Y [in 1000 €]\")\n",
    "\n",
    "ecc = get_empirical_corrcoef(dauerX, gehaltY)\n",
    "\n",
    "ax.plot()\n",
    "print(\"corrcoef =\", ecc)\n",
    "\n",
    "\"\"\"OUTPUT\n",
    "corrcoef = 0.7025547336014847\n",
    "\"\"\""
   ]
  },
  {
   "cell_type": "code",
   "execution_count": 7,
   "metadata": {},
   "outputs": [
    {
     "name": "stdout",
     "output_type": "stream",
     "text": [
      "4.301162633521313 40.3732584763727\n",
      "Arthimetischer Mittel:\n",
      "\tvon Ausbildungsdauer X = 15.0\n",
      "\tJahresgehalt Y [1000 €] = 60.0\n",
      "\n",
      "empirische Kovarianz s_xy = 122.0\n",
      "\n",
      "empirischer Korrelationskoeffizient r_xy = 0.7025547336014847\n",
      "Bestimmtheitsmaß R² = 0.4935831537058531\n"
     ]
    },
    {
     "data": {
      "text/plain": [
       "'OUTPUT\\nArthimetischer Mittel:\\n\\tvon Ausbildungsdauer X = 15.0\\n\\tJahresgehalt Y [1000 €] = 60.0\\n\\nempirische Kovarianz s_xy = 122.0\\n\\nempirischer Korrelationskoeffizient r_xy = 0.7025547336014847\\nBestimmtheitsmaß R² = 0.4935831537058531\\n\\n[<matplotlib.lines.Line2D at 0x7f2a694e3a30>]\\n'"
      ]
     },
     "execution_count": 7,
     "metadata": {},
     "output_type": "execute_result"
    },
    {
     "data": {
      "image/png": "[encoded data removed]",
      "text/plain": [
       "<Figure size 432x288 with 1 Axes>"
      ]
     },
     "metadata": {
      "needs_background": "light"
     },
     "output_type": "display_data"
    }
   ],
   "source": [
    "# Aufgabe 1.12.b\n",
    "\n",
    "# Ausbildungsdauer X\n",
    "dauerX = [9, 13, 15, 18, 20]\n",
    "# Jahresgehalt Y [1000 €]\n",
    "gehaltY = [18, 37, 61, 125, 59]\n",
    "\n",
    "__x = get_arithmetic_mean(dauerX)\n",
    "__y = get_arithmetic_mean(gehaltY) \n",
    "\n",
    "# k = s_xy / (s_x**2)\n",
    "n = len(dauerX)\n",
    "s_xy = 0\n",
    "s_x = 0\n",
    "s_y = 0\n",
    "for i in range(0, n):\n",
    "    __xi = (dauerX[i] - __x) \n",
    "    __yi = (gehaltY[i] - __y) \n",
    "    s_xy += __xi * __yi\n",
    "    s_x += __xi ** 2\n",
    "    s_y += __yi ** 2\n",
    "\n",
    "n_1 = 1 / (n - 1)\n",
    "s_xy = s_xy * n_1\n",
    "s_x = math.sqrt(n_1 * s_x)\n",
    "s_y = math.sqrt(n_1 * s_y)\n",
    "k = s_xy / (s_x ** 2)\n",
    "\n",
    "print(s_x, s_y)\n",
    "\n",
    "# d = __y - k * __x\n",
    "d = __y - k * __x\n",
    "\n",
    "# s_xy / (s_x * s_y)\n",
    "r_xy = s_xy / (s_x * s_y)\n",
    "r_xy_2 = r_xy ** 2\n",
    "\n",
    "# f(x) = kx + d\n",
    "def f_(x):\n",
    "    return k * x + d\n",
    "\n",
    "line_ = []\n",
    "for i in range(0, n):\n",
    "    x = f_(dauerX[i])\n",
    "    line_.append(x)\n",
    "\n",
    "print(\"Arthimetischer Mittel:\")\n",
    "print(\"\\tvon Ausbildungsdauer X =\", __x)\n",
    "print(\"\\tJahresgehalt Y [1000 €] =\", __y)\n",
    "\n",
    "print(\"\\nempirische Kovarianz s_xy =\", s_xy)\n",
    "print(\"\\nempirischer Korrelationskoeffizient r_xy =\", r_xy)\n",
    "print(\"Bestimmtheitsmaß R² =\", r_xy_2)\n",
    "\n",
    "fig, ax = plt.subplots()\n",
    "\n",
    "ax.set_title(\"R² = \" + str(r_xy_2))\n",
    "ax.set_xlabel(\"Ausbildungsdauer X\")\n",
    "ax.set_ylabel(\"Jahresgehalt Y [1000 €]\")\n",
    "\n",
    "plt.scatter(dauerX, gehaltY)\n",
    "plt.plot(dauerX, line_)\n",
    "\n",
    "\"\"\"OUTPUT\n",
    "Arthimetischer Mittel:\n",
    "\tvon Ausbildungsdauer X = 15.0\n",
    "\tJahresgehalt Y [1000 €] = 60.0\n",
    "\n",
    "empirische Kovarianz s_xy = 122.0\n",
    "\n",
    "empirischer Korrelationskoeffizient r_xy = 0.7025547336014847\n",
    "Bestimmtheitsmaß R² = 0.4935831537058531\n",
    "\n",
    "[<matplotlib.lines.Line2D at 0x7f2a694e3a30>]\n",
    "\"\"\""
   ]
  }
 ],
 "metadata": {
  "interpreter": {
   "hash": "e7370f93d1d0cde622a1f8e1c04877d8463912d04d973331ad4851f04de6915a"
  },
  "kernelspec": {
   "display_name": "Python 3.9.7 64-bit",
   "language": "python",
   "name": "python3"
  },
  "language_info": {
   "codemirror_mode": {
    "name": "ipython",
    "version": 3
   },
   "file_extension": ".py",
   "mimetype": "text/x-python",
   "name": "python",
   "nbconvert_exporter": "python",
   "pygments_lexer": "ipython3",
   "version": "3.9.7"
  },
  "orig_nbformat": 4
 },
 "nbformat": 4,
 "nbformat_minor": 2
}
